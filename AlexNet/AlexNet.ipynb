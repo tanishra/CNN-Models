{
 "cells": [
  {
   "cell_type": "code",
   "execution_count": null,
   "metadata": {
    "execution": {
     "iopub.execute_input": "2025-08-19T13:45:38.210690Z",
     "iopub.status.busy": "2025-08-19T13:45:38.210342Z",
     "iopub.status.idle": "2025-08-19T13:46:00.279823Z",
     "shell.execute_reply": "2025-08-19T13:46:00.279045Z",
     "shell.execute_reply.started": "2025-08-19T13:45:38.210669Z"
    },
    "trusted": true
   },
   "outputs": [
    {
     "name": "stderr",
     "output_type": "stream",
     "text": [
      "2025-08-19 13:45:41.261897: E external/local_xla/xla/stream_executor/cuda/cuda_fft.cc:477] Unable to register cuFFT factory: Attempting to register factory for plugin cuFFT when one has already been registered\n",
      "WARNING: All log messages before absl::InitializeLog() is called are written to STDERR\n",
      "E0000 00:00:1755611141.610027      36 cuda_dnn.cc:8310] Unable to register cuDNN factory: Attempting to register factory for plugin cuDNN when one has already been registered\n",
      "E0000 00:00:1755611141.707018      36 cuda_blas.cc:1418] Unable to register cuBLAS factory: Attempting to register factory for plugin cuBLAS when one has already been registered\n"
     ]
    }
   ],
   "source": [
    "import numpy as np\n",
    "import pandas as pd\n",
    "import os\n",
    "import tensorflow as tf\n",
    "from tensorflow.keras.models import Sequential\n",
    "from tensorflow.keras.layers import Conv2D, MaxPooling2D, Flatten, Dense, Dropout, BatchNormalization, Resizing\n",
    "from tensorflow.keras.optimizers import SGD\n",
    "from tensorflow.keras.utils import to_categorical\n",
    "from tensorflow.keras.datasets import cifar10\n",
    "from tensorflow.keras.mixed_precision import set_global_policy\n",
    "from tensorflow.keras.callbacks import ReduceLROnPlateau, EarlyStopping\n",
    "import matplotlib.pyplot as plt\n",
    "set_global_policy('mixed_float16') "
   ]
  },
  {
   "cell_type": "code",
   "execution_count": 3,
   "metadata": {
    "execution": {
     "iopub.execute_input": "2025-08-19T13:46:03.673623Z",
     "iopub.status.busy": "2025-08-19T13:46:03.672873Z",
     "iopub.status.idle": "2025-08-19T13:46:03.679084Z",
     "shell.execute_reply": "2025-08-19T13:46:03.678449Z",
     "shell.execute_reply.started": "2025-08-19T13:46:03.673596Z"
    },
    "trusted": true
   },
   "outputs": [],
   "source": [
    "def build_alexnet(input_shape=(227, 227, 3), num_classes=10):\n",
    "    model = Sequential([\n",
    "        Resizing(227, 227),\n",
    "        Conv2D(96, (11,11), strides=4, activation='relu', input_shape=input_shape),\n",
    "        BatchNormalization(),\n",
    "        MaxPooling2D(pool_size=(3,3), strides=2),\n",
    "\n",
    "        Conv2D(256, (5,5), padding='same', activation='relu'),\n",
    "        BatchNormalization(),\n",
    "        MaxPooling2D(pool_size=(3,3), strides=2),\n",
    "\n",
    "        Conv2D(384, (3,3), padding='same', activation='relu'),\n",
    "        Conv2D(384, (3,3), padding='same', activation='relu'),\n",
    "        Conv2D(256, (3,3), padding='same', activation='relu'),\n",
    "        MaxPooling2D(pool_size=(3,3), strides=2),\n",
    "\n",
    "        Flatten(),\n",
    "        Dense(1024, activation='relu'), # reduced from 4096 to 1024 for CIFAR-10\n",
    "        Dropout(0.5),\n",
    "        Dense(1024, activation='relu'), # reduced from 4096 to 1024 for CIFAR-10\n",
    "        Dropout(0.5),\n",
    "        Dense(num_classes, activation='softmax')\n",
    "    ])\n",
    "    return model"
   ]
  },
  {
   "cell_type": "code",
   "execution_count": 4,
   "metadata": {
    "execution": {
     "iopub.execute_input": "2025-08-19T13:46:06.574766Z",
     "iopub.status.busy": "2025-08-19T13:46:06.574071Z",
     "iopub.status.idle": "2025-08-19T13:46:06.578462Z",
     "shell.execute_reply": "2025-08-19T13:46:06.577841Z",
     "shell.execute_reply.started": "2025-08-19T13:46:06.574740Z"
    },
    "trusted": true
   },
   "outputs": [],
   "source": [
    "def load_data():\n",
    "    (x_train, y_train), (x_test, y_test) = cifar10.load_data()\n",
    "    x_train, x_test = x_train / 255.0, x_test / 255.0\n",
    "    y_train = to_categorical(y_train, 10)\n",
    "    y_test = to_categorical(y_test, 10)\n",
    "    return x_train, y_train, x_test, y_test"
   ]
  },
  {
   "cell_type": "code",
   "execution_count": 5,
   "metadata": {
    "execution": {
     "iopub.execute_input": "2025-08-19T13:46:06.985508Z",
     "iopub.status.busy": "2025-08-19T13:46:06.985275Z",
     "iopub.status.idle": "2025-08-19T13:46:06.990124Z",
     "shell.execute_reply": "2025-08-19T13:46:06.989448Z",
     "shell.execute_reply.started": "2025-08-19T13:46:06.985491Z"
    },
    "trusted": true
   },
   "outputs": [],
   "source": [
    "def train_model(model, x_train, y_train, x_val, y_val, epochs=10, batch_size=64):\n",
    "    optimizer = SGD(learning_rate=0.01, momentum=0.9, nesterov=True)\n",
    "\n",
    "    model.compile(optimizer=optimizer,\n",
    "                  loss='categorical_crossentropy',\n",
    "                  metrics=['accuracy'])\n",
    "\n",
    "    # Callbacks to reduce LR and stop early if no improvement\n",
    "    callbacks = [\n",
    "        ReduceLROnPlateau(monitor='val_loss', factor=0.5, patience=3, verbose=1),\n",
    "        EarlyStopping(monitor='val_loss', patience=5, restore_best_weights=True)\n",
    "    ]\n",
    "\n",
    "    history = model.fit(x_train, y_train,\n",
    "                        validation_data=(x_val, y_val),\n",
    "                        epochs=epochs,\n",
    "                        batch_size=batch_size,\n",
    "                        callbacks=callbacks,\n",
    "                        verbose=1)\n",
    "    return history\n"
   ]
  },
  {
   "cell_type": "code",
   "execution_count": 6,
   "metadata": {
    "execution": {
     "iopub.execute_input": "2025-08-19T13:46:07.386109Z",
     "iopub.status.busy": "2025-08-19T13:46:07.385482Z",
     "iopub.status.idle": "2025-08-19T13:46:07.389805Z",
     "shell.execute_reply": "2025-08-19T13:46:07.389250Z",
     "shell.execute_reply.started": "2025-08-19T13:46:07.386086Z"
    },
    "trusted": true
   },
   "outputs": [],
   "source": [
    "def evaluate_model(model, x_test, y_test):\n",
    "    loss, acc = model.evaluate(x_test, y_test, verbose=2)\n",
    "    print(f\"\\nTest Accuracy: {acc*100:.2f}%\")\n",
    "    return loss, acc\n"
   ]
  },
  {
   "cell_type": "code",
   "execution_count": 7,
   "metadata": {
    "execution": {
     "iopub.execute_input": "2025-08-19T13:46:07.809623Z",
     "iopub.status.busy": "2025-08-19T13:46:07.809013Z",
     "iopub.status.idle": "2025-08-19T13:46:07.813242Z",
     "shell.execute_reply": "2025-08-19T13:46:07.812662Z",
     "shell.execute_reply.started": "2025-08-19T13:46:07.809601Z"
    },
    "trusted": true
   },
   "outputs": [],
   "source": [
    "def plot_history(history):\n",
    "    plt.plot(history.history['accuracy'], label='Train Acc')\n",
    "    plt.plot(history.history['val_accuracy'], label='Val Acc')\n",
    "    plt.xlabel('Epochs')\n",
    "    plt.ylabel('Accuracy')\n",
    "    plt.legend()\n",
    "    plt.grid()\n",
    "    plt.title('Training History')\n",
    "    plt.show()"
   ]
  },
  {
   "cell_type": "code",
   "execution_count": 8,
   "metadata": {
    "execution": {
     "iopub.execute_input": "2025-08-19T13:46:08.209923Z",
     "iopub.status.busy": "2025-08-19T13:46:08.209509Z",
     "iopub.status.idle": "2025-08-19T13:51:44.075366Z",
     "shell.execute_reply": "2025-08-19T13:51:44.074592Z",
     "shell.execute_reply.started": "2025-08-19T13:46:08.209895Z"
    },
    "trusted": true
   },
   "outputs": [
    {
     "name": "stdout",
     "output_type": "stream",
     "text": [
      "Downloading data from https://www.cs.toronto.edu/~kriz/cifar-10-python.tar.gz\n",
      "\u001b[1m170498071/170498071\u001b[0m \u001b[32m━━━━━━━━━━━━━━━━━━━━\u001b[0m\u001b[37m\u001b[0m \u001b[1m2s\u001b[0m 0us/step\n"
     ]
    },
    {
     "name": "stderr",
     "output_type": "stream",
     "text": [
      "/usr/local/lib/python3.11/dist-packages/keras/src/layers/convolutional/base_conv.py:107: UserWarning: Do not pass an `input_shape`/`input_dim` argument to a layer. When using Sequential models, prefer using an `Input(shape)` object as the first layer in the model instead.\n",
      "  super().__init__(activity_regularizer=activity_regularizer, **kwargs)\n",
      "I0000 00:00:1755611175.246777      36 gpu_device.cc:2022] Created device /job:localhost/replica:0/task:0/device:GPU:0 with 13942 MB memory:  -> device: 0, name: Tesla T4, pci bus id: 0000:00:04.0, compute capability: 7.5\n",
      "I0000 00:00:1755611175.247476      36 gpu_device.cc:2022] Created device /job:localhost/replica:0/task:0/device:GPU:1 with 13942 MB memory:  -> device: 1, name: Tesla T4, pci bus id: 0000:00:05.0, compute capability: 7.5\n"
     ]
    },
    {
     "name": "stdout",
     "output_type": "stream",
     "text": [
      "Epoch 1/10\n"
     ]
    },
    {
     "name": "stderr",
     "output_type": "stream",
     "text": [
      "WARNING: All log messages before absl::InitializeLog() is called are written to STDERR\n",
      "I0000 00:00:1755611182.036726      83 service.cc:148] XLA service 0x7a61cc002c60 initialized for platform CUDA (this does not guarantee that XLA will be used). Devices:\n",
      "I0000 00:00:1755611182.038068      83 service.cc:156]   StreamExecutor device (0): Tesla T4, Compute Capability 7.5\n",
      "I0000 00:00:1755611182.038086      83 service.cc:156]   StreamExecutor device (1): Tesla T4, Compute Capability 7.5\n",
      "I0000 00:00:1755611182.784058      83 cuda_dnn.cc:529] Loaded cuDNN version 90300\n",
      "2025-08-19 13:46:29.290338: E external/local_xla/xla/service/slow_operation_alarm.cc:65] Trying algorithm eng0{} for conv (f16[64,27,27,96]{3,2,1,0}, u8[0]{0}) custom-call(f16[64,27,27,256]{3,2,1,0}, f16[256,5,5,96]{3,2,1,0}), window={size=5x5 pad=2_2x2_2}, dim_labels=b01f_o01i->b01f, custom_call_target=\"__cudnn$convBackwardInput\", backend_config={\"cudnn_conv_backend_config\":{\"activation_mode\":\"kNone\",\"conv_result_scale\":1,\"leakyrelu_alpha\":0,\"side_input_scale\":0},\"force_earliest_schedule\":false,\"operation_queue_id\":\"0\",\"wait_on_operation_queues\":[]} is taking a while...\n",
      "2025-08-19 13:46:31.023368: E external/local_xla/xla/service/slow_operation_alarm.cc:133] The operation took 2.733137153s\n",
      "Trying algorithm eng0{} for conv (f16[64,27,27,96]{3,2,1,0}, u8[0]{0}) custom-call(f16[64,27,27,256]{3,2,1,0}, f16[256,5,5,96]{3,2,1,0}), window={size=5x5 pad=2_2x2_2}, dim_labels=b01f_o01i->b01f, custom_call_target=\"__cudnn$convBackwardInput\", backend_config={\"cudnn_conv_backend_config\":{\"activation_mode\":\"kNone\",\"conv_result_scale\":1,\"leakyrelu_alpha\":0,\"side_input_scale\":0},\"force_earliest_schedule\":false,\"operation_queue_id\":\"0\",\"wait_on_operation_queues\":[]} is taking a while...\n",
      "2025-08-19 13:46:32.956022: E external/local_xla/xla/service/slow_operation_alarm.cc:65] Trying algorithm eng19{k2=0} for conv (f16[256,5,5,96]{3,2,1,0}, u8[0]{0}) custom-call(f16[64,27,27,96]{3,2,1,0}, f16[64,27,27,256]{3,2,1,0}), window={size=5x5 pad=2_2x2_2}, dim_labels=b01f_o01i->b01f, custom_call_target=\"__cudnn$convBackwardFilter\", backend_config={\"cudnn_conv_backend_config\":{\"activation_mode\":\"kNone\",\"conv_result_scale\":1,\"leakyrelu_alpha\":0,\"side_input_scale\":0},\"force_earliest_schedule\":false,\"operation_queue_id\":\"0\",\"wait_on_operation_queues\":[]} is taking a while...\n",
      "2025-08-19 13:46:33.505722: E external/local_xla/xla/service/slow_operation_alarm.cc:133] The operation took 1.549811947s\n",
      "Trying algorithm eng19{k2=0} for conv (f16[256,5,5,96]{3,2,1,0}, u8[0]{0}) custom-call(f16[64,27,27,96]{3,2,1,0}, f16[64,27,27,256]{3,2,1,0}), window={size=5x5 pad=2_2x2_2}, dim_labels=b01f_o01i->b01f, custom_call_target=\"__cudnn$convBackwardFilter\", backend_config={\"cudnn_conv_backend_config\":{\"activation_mode\":\"kNone\",\"conv_result_scale\":1,\"leakyrelu_alpha\":0,\"side_input_scale\":0},\"force_earliest_schedule\":false,\"operation_queue_id\":\"0\",\"wait_on_operation_queues\":[]} is taking a while...\n",
      "2025-08-19 13:46:34.505957: E external/local_xla/xla/service/slow_operation_alarm.cc:65] Trying algorithm eng19{k2=2} for conv (f16[256,5,5,96]{3,2,1,0}, u8[0]{0}) custom-call(f16[64,27,27,96]{3,2,1,0}, f16[64,27,27,256]{3,2,1,0}), window={size=5x5 pad=2_2x2_2}, dim_labels=b01f_o01i->b01f, custom_call_target=\"__cudnn$convBackwardFilter\", backend_config={\"cudnn_conv_backend_config\":{\"activation_mode\":\"kNone\",\"conv_result_scale\":1,\"leakyrelu_alpha\":0,\"side_input_scale\":0},\"force_earliest_schedule\":false,\"operation_queue_id\":\"0\",\"wait_on_operation_queues\":[]} is taking a while...\n",
      "2025-08-19 13:46:43.931166: E external/local_xla/xla/service/slow_operation_alarm.cc:133] The operation took 10.42530665s\n",
      "Trying algorithm eng19{k2=2} for conv (f16[256,5,5,96]{3,2,1,0}, u8[0]{0}) custom-call(f16[64,27,27,96]{3,2,1,0}, f16[64,27,27,256]{3,2,1,0}), window={size=5x5 pad=2_2x2_2}, dim_labels=b01f_o01i->b01f, custom_call_target=\"__cudnn$convBackwardFilter\", backend_config={\"cudnn_conv_backend_config\":{\"activation_mode\":\"kNone\",\"conv_result_scale\":1,\"leakyrelu_alpha\":0,\"side_input_scale\":0},\"force_earliest_schedule\":false,\"operation_queue_id\":\"0\",\"wait_on_operation_queues\":[]} is taking a while...\n"
     ]
    },
    {
     "name": "stdout",
     "output_type": "stream",
     "text": [
      "\u001b[1m  3/782\u001b[0m \u001b[37m━━━━━━━━━━━━━━━━━━━━\u001b[0m \u001b[1m41s\u001b[0m 54ms/step - accuracy: 0.0582 - loss: 3.0833 "
     ]
    },
    {
     "name": "stderr",
     "output_type": "stream",
     "text": [
      "I0000 00:00:1755611211.995699      83 device_compiler.h:188] Compiled cluster using XLA!  This line is logged at most once for the lifetime of the process.\n"
     ]
    },
    {
     "name": "stdout",
     "output_type": "stream",
     "text": [
      "\u001b[1m781/782\u001b[0m \u001b[32m━━━━━━━━━━━━━━━━━━━\u001b[0m\u001b[37m━\u001b[0m \u001b[1m0s\u001b[0m 31ms/step - accuracy: 0.3280 - loss: 1.8445"
     ]
    },
    {
     "name": "stderr",
     "output_type": "stream",
     "text": [
      "2025-08-19 13:47:19.133657: E external/local_xla/xla/service/slow_operation_alarm.cc:65] Trying algorithm eng19{k2=2} for conv (f16[256,5,5,96]{3,2,1,0}, u8[0]{0}) custom-call(f16[16,27,27,96]{3,2,1,0}, f16[16,27,27,256]{3,2,1,0}), window={size=5x5 pad=2_2x2_2}, dim_labels=b01f_o01i->b01f, custom_call_target=\"__cudnn$convBackwardFilter\", backend_config={\"cudnn_conv_backend_config\":{\"activation_mode\":\"kNone\",\"conv_result_scale\":1,\"leakyrelu_alpha\":0,\"side_input_scale\":0},\"force_earliest_schedule\":false,\"operation_queue_id\":\"0\",\"wait_on_operation_queues\":[]} is taking a while...\n",
      "2025-08-19 13:47:20.597495: E external/local_xla/xla/service/slow_operation_alarm.cc:133] The operation took 2.464053481s\n",
      "Trying algorithm eng19{k2=2} for conv (f16[256,5,5,96]{3,2,1,0}, u8[0]{0}) custom-call(f16[16,27,27,96]{3,2,1,0}, f16[16,27,27,256]{3,2,1,0}), window={size=5x5 pad=2_2x2_2}, dim_labels=b01f_o01i->b01f, custom_call_target=\"__cudnn$convBackwardFilter\", backend_config={\"cudnn_conv_backend_config\":{\"activation_mode\":\"kNone\",\"conv_result_scale\":1,\"leakyrelu_alpha\":0,\"side_input_scale\":0},\"force_earliest_schedule\":false,\"operation_queue_id\":\"0\",\"wait_on_operation_queues\":[]} is taking a while...\n"
     ]
    },
    {
     "name": "stdout",
     "output_type": "stream",
     "text": [
      "\u001b[1m782/782\u001b[0m \u001b[32m━━━━━━━━━━━━━━━━━━━━\u001b[0m\u001b[37m\u001b[0m \u001b[1m75s\u001b[0m 52ms/step - accuracy: 0.3282 - loss: 1.8439 - val_accuracy: 0.3497 - val_loss: 1.8763 - learning_rate: 0.0100\n",
      "Epoch 2/10\n",
      "\u001b[1m782/782\u001b[0m \u001b[32m━━━━━━━━━━━━━━━━━━━━\u001b[0m\u001b[37m\u001b[0m \u001b[1m27s\u001b[0m 34ms/step - accuracy: 0.5576 - loss: 1.2418 - val_accuracy: 0.5285 - val_loss: 1.3270 - learning_rate: 0.0100\n",
      "Epoch 3/10\n",
      "\u001b[1m782/782\u001b[0m \u001b[32m━━━━━━━━━━━━━━━━━━━━\u001b[0m\u001b[37m\u001b[0m \u001b[1m28s\u001b[0m 36ms/step - accuracy: 0.6569 - loss: 0.9840 - val_accuracy: 0.6263 - val_loss: 1.0610 - learning_rate: 0.0100\n",
      "Epoch 4/10\n",
      "\u001b[1m782/782\u001b[0m \u001b[32m━━━━━━━━━━━━━━━━━━━━\u001b[0m\u001b[37m\u001b[0m \u001b[1m28s\u001b[0m 35ms/step - accuracy: 0.7097 - loss: 0.8342 - val_accuracy: 0.6796 - val_loss: 0.9349 - learning_rate: 0.0100\n",
      "Epoch 5/10\n",
      "\u001b[1m782/782\u001b[0m \u001b[32m━━━━━━━━━━━━━━━━━━━━\u001b[0m\u001b[37m\u001b[0m \u001b[1m27s\u001b[0m 35ms/step - accuracy: 0.7565 - loss: 0.6981 - val_accuracy: 0.7359 - val_loss: 0.7680 - learning_rate: 0.0100\n",
      "Epoch 6/10\n",
      "\u001b[1m782/782\u001b[0m \u001b[32m━━━━━━━━━━━━━━━━━━━━\u001b[0m\u001b[37m\u001b[0m \u001b[1m27s\u001b[0m 35ms/step - accuracy: 0.7929 - loss: 0.5936 - val_accuracy: 0.7358 - val_loss: 0.7938 - learning_rate: 0.0100\n",
      "Epoch 7/10\n",
      "\u001b[1m782/782\u001b[0m \u001b[32m━━━━━━━━━━━━━━━━━━━━\u001b[0m\u001b[37m\u001b[0m \u001b[1m27s\u001b[0m 35ms/step - accuracy: 0.8174 - loss: 0.5343 - val_accuracy: 0.7305 - val_loss: 0.8213 - learning_rate: 0.0100\n",
      "Epoch 8/10\n",
      "\u001b[1m781/782\u001b[0m \u001b[32m━━━━━━━━━━━━━━━━━━━\u001b[0m\u001b[37m━\u001b[0m \u001b[1m0s\u001b[0m 32ms/step - accuracy: 0.8413 - loss: 0.4563\n",
      "Epoch 8: ReduceLROnPlateau reducing learning rate to 0.004999999888241291.\n",
      "\u001b[1m782/782\u001b[0m \u001b[32m━━━━━━━━━━━━━━━━━━━━\u001b[0m\u001b[37m\u001b[0m \u001b[1m27s\u001b[0m 35ms/step - accuracy: 0.8413 - loss: 0.4563 - val_accuracy: 0.7032 - val_loss: 0.9215 - learning_rate: 0.0100\n",
      "Epoch 9/10\n",
      "\u001b[1m782/782\u001b[0m \u001b[32m━━━━━━━━━━━━━━━━━━━━\u001b[0m\u001b[37m\u001b[0m \u001b[1m27s\u001b[0m 35ms/step - accuracy: 0.8836 - loss: 0.3301 - val_accuracy: 0.7950 - val_loss: 0.6654 - learning_rate: 0.0050\n",
      "Epoch 10/10\n",
      "\u001b[1m782/782\u001b[0m \u001b[32m━━━━━━━━━━━━━━━━━━━━\u001b[0m\u001b[37m\u001b[0m \u001b[1m27s\u001b[0m 35ms/step - accuracy: 0.9289 - loss: 0.2065 - val_accuracy: 0.7695 - val_loss: 0.8496 - learning_rate: 0.0050\n",
      "313/313 - 5s - 14ms/step - accuracy: 0.7950 - loss: 0.6654\n",
      "\n",
      "Test Accuracy: 79.50%\n"
     ]
    },
    {
     "data": {
      "image/png": "[encoded data removed]",
      "text/plain": [
       "<Figure size 640x480 with 1 Axes>"
      ]
     },
     "metadata": {},
     "output_type": "display_data"
    }
   ],
   "source": [
    "x_train, y_train, x_test, y_test = load_data()\n",
    "model = build_alexnet(input_shape=(227, 227, 3), num_classes=10)\n",
    "history = train_model(model, x_train, y_train, x_test, y_test, epochs=10)\n",
    "evaluate_model(model, x_test, y_test)\n",
    "plot_history(history)"
   ]
  },
  {
   "cell_type": "code",
   "execution_count": null,
   "metadata": {
    "trusted": true
   },
   "outputs": [],
   "source": []
  }
 ],
 "metadata": {
  "kaggle": {
   "accelerator": "nvidiaTeslaT4",
   "dataSources": [],
   "dockerImageVersionId": 31090,
   "isGpuEnabled": true,
   "isInternetEnabled": true,
   "language": "python",
   "sourceType": "notebook"
  },
  "kernelspec": {
   "display_name": "Python 3",
   "language": "python",
   "name": "python3"
  },
  "language_info": {
   "codemirror_mode": {
    "name": "ipython",
    "version": 3
   },
   "file_extension": ".py",
   "mimetype": "text/x-python",
   "name": "python",
   "nbconvert_exporter": "python",
   "pygments_lexer": "ipython3",
   "version": "3.11.13"
  }
 },
 "nbformat": 4,
 "nbformat_minor": 4
}
