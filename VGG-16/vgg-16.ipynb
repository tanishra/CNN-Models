{
 "cells": [
  {
   "cell_type": "code",
   "execution_count": null,
   "metadata": {
    "execution": {
     "iopub.execute_input": "2025-08-25T12:23:01.183619Z",
     "iopub.status.busy": "2025-08-25T12:23:01.183235Z",
     "iopub.status.idle": "2025-08-25T12:23:03.931150Z",
     "shell.execute_reply": "2025-08-25T12:23:03.930553Z",
     "shell.execute_reply.started": "2025-08-25T12:23:01.183600Z"
    },
    "trusted": true
   },
   "outputs": [],
   "source": [
    "import os\n",
    "import random\n",
    "import math\n",
    "import time\n",
    "from datetime import datetime\n",
    "from typing import Tuple\n",
    "\n",
    "import numpy as np\n",
    "import matplotlib.pyplot as plt\n",
    "from tqdm import tqdm\n",
    "\n",
    "import torch\n",
    "import torch.nn as nn\n",
    "import torch.nn.functional as F\n",
    "import torch.optim as optim\n",
    "from torch.utils.data import DataLoader\n",
    "from torchvision import transforms, datasets"
   ]
  },
  {
   "cell_type": "code",
   "execution_count": null,
   "metadata": {
    "execution": {
     "iopub.execute_input": "2025-08-25T12:23:03.932186Z",
     "iopub.status.busy": "2025-08-25T12:23:03.931869Z",
     "iopub.status.idle": "2025-08-25T12:23:03.992482Z",
     "shell.execute_reply": "2025-08-25T12:23:03.991662Z",
     "shell.execute_reply.started": "2025-08-25T12:23:03.932168Z"
    },
    "trusted": true
   },
   "outputs": [],
   "source": [
    "# Configuration / Hyperparameters\n",
    "CFG = {\n",
    "    \"seed\": 42,\n",
    "    \"batch_size\": 128,\n",
    "    \"epochs\": 100,                \n",
    "    \"lr\": 0.1,\n",
    "    \"momentum\": 0.9,\n",
    "    \"weight_decay\": 5e-4,\n",
    "    \"num_workers\": 4,\n",
    "    \"device\": \"cuda\" if torch.cuda.is_available() else \"cpu\",\n",
    "    \"save_dir\": \"/kaggle/working/vgg16_cifar10_checkpoints\",\n",
    "    \"label_smoothing\": 0.1,      \n",
    "    \"cutout_n_holes\": 1,\n",
    "    \"cutout_length\": 16,\n",
    "    \"mixup_alpha\": 0.0,         \n",
    "    \"print_freq\": 100\n",
    "}\n",
    "\n",
    "os.makedirs(CFG[\"save_dir\"], exist_ok=True)"
   ]
  },
  {
   "cell_type": "code",
   "execution_count": null,
   "metadata": {
    "execution": {
     "iopub.execute_input": "2025-08-25T12:23:03.994262Z",
     "iopub.status.busy": "2025-08-25T12:23:03.993297Z",
     "iopub.status.idle": "2025-08-25T12:23:04.015148Z",
     "shell.execute_reply": "2025-08-25T12:23:04.014592Z",
     "shell.execute_reply.started": "2025-08-25T12:23:03.994231Z"
    },
    "trusted": true
   },
   "outputs": [],
   "source": [
    "# Reproducibility\n",
    "def set_seed(seed: int):\n",
    "    random.seed(seed)\n",
    "    np.random.seed(seed)\n",
    "    torch.manual_seed(seed)\n",
    "    if torch.cuda.is_available():\n",
    "        torch.cuda.manual_seed_all(seed)\n",
    "    # For determinism (might slow down)\n",
    "    torch.backends.cudnn.deterministic = False\n",
    "    torch.backends.cudnn.benchmark = True\n",
    "\n",
    "set_seed(CFG[\"seed\"])"
   ]
  },
  {
   "cell_type": "code",
   "execution_count": null,
   "metadata": {
    "execution": {
     "iopub.execute_input": "2025-08-25T12:23:04.017529Z",
     "iopub.status.busy": "2025-08-25T12:23:04.017290Z",
     "iopub.status.idle": "2025-08-25T12:23:04.036643Z",
     "shell.execute_reply": "2025-08-25T12:23:04.036115Z",
     "shell.execute_reply.started": "2025-08-25T12:23:04.017509Z"
    },
    "trusted": true
   },
   "outputs": [],
   "source": [
    "# Data Augmentation: Cutout\n",
    "class Cutout:\n",
    "    \"\"\"Randomly mask out one or more patches from an image.\"\"\"\n",
    "    def __init__(self, n_holes: int, length: int):\n",
    "        self.n_holes = n_holes\n",
    "        self.length = length\n",
    "\n",
    "    def __call__(self, img):\n",
    "        # img is PIL Image converted to Tensor already if used after ToTensor? We'll assume tensor.\n",
    "        if not isinstance(img, torch.Tensor):\n",
    "            img = transforms.functional.to_tensor(img)\n",
    "        h, w = img.shape[1], img.shape[2]\n",
    "        mask = np.ones((h, w), np.float32)\n",
    "\n",
    "        for n in range(self.n_holes):\n",
    "            y = np.random.randint(h)\n",
    "            x = np.random.randint(w)\n",
    "\n",
    "            y1 = np.clip(y - self.length // 2, 0, h)\n",
    "            y2 = np.clip(y + self.length // 2, 0, h)\n",
    "            x1 = np.clip(x - self.length // 2, 0, w)\n",
    "            x2 = np.clip(x + self.length // 2, 0, w)\n",
    "\n",
    "            mask[y1: y2, x1: x2] = 0.\n",
    "\n",
    "        mask = torch.from_numpy(mask).expand_as(img)\n",
    "        img = img * mask\n",
    "        return img"
   ]
  },
  {
   "cell_type": "code",
   "execution_count": null,
   "metadata": {
    "execution": {
     "iopub.execute_input": "2025-08-25T12:23:04.037646Z",
     "iopub.status.busy": "2025-08-25T12:23:04.037390Z",
     "iopub.status.idle": "2025-08-25T12:23:04.056888Z",
     "shell.execute_reply": "2025-08-25T12:23:04.056208Z",
     "shell.execute_reply.started": "2025-08-25T12:23:04.037617Z"
    },
    "trusted": true
   },
   "outputs": [],
   "source": [
    "# Data Preparation / Dataloaders\n",
    "CIFAR10_MEAN = (0.4914, 0.4822, 0.4465)\n",
    "CIFAR10_STD  = (0.2470, 0.2435, 0.2616)\n",
    "\n",
    "train_transform = transforms.Compose([\n",
    "    transforms.RandomCrop(32, padding=4),\n",
    "    transforms.RandomHorizontalFlip(),\n",
    "    transforms.ToTensor(),\n",
    "    transforms.Normalize(CIFAR10_MEAN, CIFAR10_STD),\n",
    "    # Cutout expects tensor input - add as last\n",
    "    Cutout(n_holes=CFG[\"cutout_n_holes\"], length=CFG[\"cutout_length\"])\n",
    "])\n",
    "\n",
    "test_transform = transforms.Compose([\n",
    "    transforms.ToTensor(),\n",
    "    transforms.Normalize(CIFAR10_MEAN, CIFAR10_STD)\n",
    "])\n",
    "\n",
    "def get_dataloaders(batch_size: int, num_workers: int = 4):\n",
    "    train_set = datasets.CIFAR10(root=\"/kaggle/working\", train=True, download=True, transform=train_transform)\n",
    "    test_set  = datasets.CIFAR10(root=\"/kaggle/working\", train=False, download=True, transform=test_transform)\n",
    "\n",
    "    train_loader = DataLoader(train_set, batch_size=batch_size, shuffle=True, num_workers=num_workers, pin_memory=True)\n",
    "    test_loader  = DataLoader(test_set,  batch_size=batch_size, shuffle=False, num_workers=num_workers, pin_memory=True)\n",
    "\n",
    "    return train_loader, test_loader"
   ]
  },
  {
   "cell_type": "code",
   "execution_count": null,
   "metadata": {
    "execution": {
     "iopub.execute_input": "2025-08-25T12:23:04.057690Z",
     "iopub.status.busy": "2025-08-25T12:23:04.057485Z",
     "iopub.status.idle": "2025-08-25T12:23:04.082795Z",
     "shell.execute_reply": "2025-08-25T12:23:04.082097Z",
     "shell.execute_reply.started": "2025-08-25T12:23:04.057673Z"
    },
    "trusted": true
   },
   "outputs": [],
   "source": [
    "# VGG-16 Model Definition\n",
    "cfg_vgg16 = [64, 64, 'M', 128, 128, 'M', 256, 256, 256, 'M', 512, 512, 512, 'M', 512, 512, 512, 'M']\n",
    "\n",
    "class VGG(nn.Module):\n",
    "    def __init__(self, features, num_classes=10, init_weights=True):\n",
    "        super(VGG, self).__init__()\n",
    "        self.features = features\n",
    "        self.avgpool = nn.AdaptiveAvgPool2d((1, 1))\n",
    "        self.classifier = nn.Sequential(\n",
    "            nn.Flatten(),\n",
    "            nn.Linear(512 * 1 * 1, 512),\n",
    "            nn.ReLU(True),\n",
    "            nn.Dropout(0.5),\n",
    "            nn.Linear(512, 512),\n",
    "            nn.ReLU(True),\n",
    "            nn.Dropout(0.5),\n",
    "            nn.Linear(512, num_classes)\n",
    "        )\n",
    "        if init_weights:\n",
    "            self._initialize_weights()  \n",
    "\n",
    "    def forward(self, x):\n",
    "        x = self.features(x)\n",
    "        x = self.avgpool(x)\n",
    "        x = self.classifier(x)\n",
    "        return x\n",
    "\n",
    "    def _initialize_weights(self):\n",
    "        for m in self.modules():\n",
    "            if isinstance(m, nn.Conv2d):\n",
    "                nn.init.kaiming_normal_(m.weight, mode='fan_out', nonlinearity='relu')\n",
    "                if m.bias is not None:\n",
    "                    nn.init.constant_(m.bias, 0)\n",
    "            elif isinstance(m, nn.BatchNorm2d):\n",
    "                nn.init.constant_(m.weight, 1)\n",
    "                nn.init.constant_(m.bias, 0)\n",
    "            elif isinstance(m, nn.Linear):\n",
    "                nn.init.normal_(m.weight, 0, 0.01)\n",
    "                nn.init.constant_(m.bias, 0)\n",
    "\n",
    "\n",
    "def make_layers(cfg_list, batch_norm=True):\n",
    "    layers = []\n",
    "    in_channels = 3\n",
    "    for v in cfg_list:\n",
    "        if v == 'M':\n",
    "            layers += [nn.MaxPool2d(kernel_size=2, stride=2)]\n",
    "        else:\n",
    "            conv2d = nn.Conv2d(in_channels, v, kernel_size=3, padding=1)\n",
    "            if batch_norm:\n",
    "                layers += [conv2d, nn.BatchNorm2d(v), nn.ReLU(inplace=True)]\n",
    "            else:\n",
    "                layers += [conv2d, nn.ReLU(inplace=True)]\n",
    "            in_channels = v\n",
    "    return nn.Sequential(*layers)\n",
    "\n",
    "def vgg16_bn(num_classes=10):\n",
    "    return VGG(make_layers(cfg_vgg16, batch_norm=True), num_classes=num_classes)\n"
   ]
  },
  {
   "cell_type": "code",
   "execution_count": null,
   "metadata": {
    "execution": {
     "iopub.execute_input": "2025-08-25T12:23:04.083725Z",
     "iopub.status.busy": "2025-08-25T12:23:04.083487Z",
     "iopub.status.idle": "2025-08-25T12:23:04.104789Z",
     "shell.execute_reply": "2025-08-25T12:23:04.104002Z",
     "shell.execute_reply.started": "2025-08-25T12:23:04.083701Z"
    },
    "trusted": true
   },
   "outputs": [],
   "source": [
    "# Loss Function with Label Smoothing\n",
    "def get_criterion(label_smoothing=0.0):\n",
    "    # If label_smoothing==0 uses regular CE\n",
    "    return nn.CrossEntropyLoss(label_smoothing=label_smoothing)"
   ]
  },
  {
   "cell_type": "code",
   "execution_count": null,
   "metadata": {
    "execution": {
     "iopub.execute_input": "2025-08-25T12:23:04.105677Z",
     "iopub.status.busy": "2025-08-25T12:23:04.105480Z",
     "iopub.status.idle": "2025-08-25T12:23:04.126946Z",
     "shell.execute_reply": "2025-08-25T12:23:04.126465Z",
     "shell.execute_reply.started": "2025-08-25T12:23:04.105662Z"
    },
    "trusted": true
   },
   "outputs": [],
   "source": [
    "# Training and Evaluation Functions\n",
    "def accuracy(output, target, topk=(1,)):\n",
    "    with torch.no_grad():\n",
    "        maxk = max(topk)\n",
    "        batch_size = target.size(0)\n",
    "        _, pred = output.topk(maxk, 1, True, True)\n",
    "        pred = pred.t()\n",
    "        correct = pred.eq(target.view(1, -1).expand_as(pred))\n",
    "        res = []\n",
    "        for k in topk:\n",
    "            correct_k = correct[:k].reshape(-1).float().sum(0, keepdim=True)\n",
    "            res.append((correct_k.mul_(100.0 / batch_size)).item())\n",
    "        return res\n",
    "\n",
    "def train_one_epoch(model, loader, criterion, optimizer, device, scaler, epoch):\n",
    "    model.train()\n",
    "    running_loss = 0.0\n",
    "    running_acc = 0.0\n",
    "    n = 0\n",
    "    pbar = tqdm(enumerate(loader), total=len(loader), desc=f\"Train Epoch {epoch+1}\", leave=False)\n",
    "    for i, (images, targets) in pbar:\n",
    "        images = images.to(device, non_blocking=True)\n",
    "        targets = targets.to(device, non_blocking=True)\n",
    "\n",
    "        optimizer.zero_grad()\n",
    "        with torch.cuda.amp.autocast(enabled=(scaler is not None)):\n",
    "            outputs = model(images)\n",
    "            loss = criterion(outputs, targets)\n",
    "        if scaler is not None:\n",
    "            scaler.scale(loss).backward()\n",
    "            scaler.step(optimizer)\n",
    "            scaler.update()\n",
    "        else:\n",
    "            loss.backward()\n",
    "            optimizer.step()\n",
    "\n",
    "        batch_size = images.size(0)\n",
    "        acc1 = accuracy(outputs, targets, topk=(1,))[0]\n",
    "\n",
    "        running_loss += loss.item() * batch_size\n",
    "        running_acc += acc1 * batch_size\n",
    "        n += batch_size\n",
    "\n",
    "        if (i + 1) % CFG[\"print_freq\"] == 0:\n",
    "            pbar.set_postfix({\"loss\": f\"{running_loss/n:.4f}\", \"acc1\": f\"{running_acc/n:.2f}\"})\n",
    "\n",
    "    epoch_loss = running_loss / n\n",
    "    epoch_acc  = running_acc / n\n",
    "    return epoch_loss, epoch_acc\n",
    "\n",
    "def evaluate(model, loader, criterion, device, epoch=None):\n",
    "    model.eval()\n",
    "    running_loss = 0.0\n",
    "    running_acc = 0.0\n",
    "    n = 0\n",
    "    with torch.no_grad():\n",
    "        pbar = tqdm(enumerate(loader), total=len(loader), desc=f\"Eval Epoch {epoch+1}\" if epoch is not None else \"Eval\", leave=False)\n",
    "        for i, (images, targets) in pbar:\n",
    "            images = images.to(device, non_blocking=True)\n",
    "            targets = targets.to(device, non_blocking=True)\n",
    "\n",
    "            outputs = model(images)\n",
    "            loss = criterion(outputs, targets)\n",
    "\n",
    "            batch_size = images.size(0)\n",
    "            acc1 = accuracy(outputs, targets, topk=(1,))[0]\n",
    "\n",
    "            running_loss += loss.item() * batch_size\n",
    "            running_acc += acc1 * batch_size\n",
    "            n += batch_size\n",
    "\n",
    "    epoch_loss = running_loss / n\n",
    "    epoch_acc  = running_acc / n\n",
    "    return epoch_loss, epoch_acc\n"
   ]
  },
  {
   "cell_type": "code",
   "execution_count": null,
   "metadata": {
    "execution": {
     "iopub.execute_input": "2025-08-25T12:23:04.127846Z",
     "iopub.status.busy": "2025-08-25T12:23:04.127597Z",
     "iopub.status.idle": "2025-08-25T12:23:04.152134Z",
     "shell.execute_reply": "2025-08-25T12:23:04.151609Z",
     "shell.execute_reply.started": "2025-08-25T12:23:04.127823Z"
    },
    "trusted": true
   },
   "outputs": [],
   "source": [
    "# Training Loop\n",
    "def train_and_evaluate(cfg):\n",
    "    device = cfg[\"device\"]\n",
    "    train_loader, test_loader = get_dataloaders(cfg[\"batch_size\"], cfg[\"num_workers\"])\n",
    "\n",
    "    model = vgg16_bn(num_classes=10).to(device)\n",
    "    criterion = get_criterion(cfg[\"label_smoothing\"])\n",
    "    optimizer = optim.SGD(model.parameters(), lr=cfg[\"lr\"], momentum=cfg[\"momentum\"], weight_decay=cfg[\"weight_decay\"], nesterov=False)\n",
    "\n",
    "    # Cosine annealing\n",
    "    scheduler = optim.lr_scheduler.CosineAnnealingLR(optimizer, T_max=cfg[\"epochs\"], eta_min=1e-5)\n",
    "\n",
    "    # Mixed precision scaler\n",
    "    scaler = torch.cuda.amp.GradScaler() if device.startswith(\"cuda\") else None\n",
    "\n",
    "    best_acc = 0.0\n",
    "    history = {\"train_loss\": [], \"train_acc\": [], \"val_loss\": [], \"val_acc\": [], \"lr\": []}\n",
    "    start_time = time.time()\n",
    "\n",
    "    for epoch in range(cfg[\"epochs\"]):\n",
    "        # train\n",
    "        train_loss, train_acc = train_one_epoch(model, train_loader, criterion, optimizer, device, scaler, epoch)\n",
    "        # validate\n",
    "        val_loss, val_acc = evaluate(model, test_loader, criterion, device, epoch)\n",
    "        scheduler.step()\n",
    "\n",
    "        history[\"train_loss\"].append(train_loss)\n",
    "        history[\"train_acc\"].append(train_acc)\n",
    "        history[\"val_loss\"].append(val_loss)\n",
    "        history[\"val_acc\"].append(val_acc)\n",
    "        history[\"lr\"].append(optimizer.param_groups[0][\"lr\"])\n",
    "\n",
    "        is_best = val_acc > best_acc\n",
    "        if is_best:\n",
    "            best_acc = val_acc\n",
    "            torch.save({\n",
    "                \"epoch\": epoch+1,\n",
    "                \"model_state_dict\": model.state_dict(),\n",
    "                \"optimizer_state_dict\": optimizer.state_dict(),\n",
    "                \"best_acc\": best_acc,\n",
    "                \"history\": history\n",
    "            }, os.path.join(cfg[\"save_dir\"], \"vgg16_cifar10_best.pth\"))\n",
    "        # also save last\n",
    "        torch.save({\n",
    "            \"epoch\": epoch+1,\n",
    "            \"model_state_dict\": model.state_dict(),\n",
    "            \"optimizer_state_dict\": optimizer.state_dict(),\n",
    "            \"best_acc\": best_acc,\n",
    "            \"history\": history\n",
    "        }, os.path.join(cfg[\"save_dir\"], \"vgg16_cifar10_last.pth\"))\n",
    "\n",
    "        print(f\"Epoch [{epoch+1}/{cfg['epochs']}]: train_loss={train_loss:.4f}, train_acc={train_acc:.2f}% | val_loss={val_loss:.4f}, val_acc={val_acc:.2f}% | lr={optimizer.param_groups[0]['lr']:.6f} | best_val_acc={best_acc:.2f}%\")\n",
    "\n",
    "    elapsed = time.time() - start_time\n",
    "    print(f\"Training finished in {elapsed/60:.2f} minutes. Best val acc: {best_acc:.2f}%\")\n",
    "    return model, history, best_acc\n"
   ]
  },
  {
   "cell_type": "code",
   "execution_count": null,
   "metadata": {
    "execution": {
     "iopub.execute_input": "2025-08-25T12:23:04.152972Z",
     "iopub.status.busy": "2025-08-25T12:23:04.152790Z",
     "iopub.status.idle": "2025-08-25T12:23:04.174167Z",
     "shell.execute_reply": "2025-08-25T12:23:04.173628Z",
     "shell.execute_reply.started": "2025-08-25T12:23:04.152957Z"
    },
    "trusted": true
   },
   "outputs": [],
   "source": [
    "# Visualization\n",
    "def plot_history(history, save_path=None):\n",
    "    epochs = len(history[\"train_loss\"])\n",
    "    plt.figure(figsize=(12,5))\n",
    "    plt.subplot(1,2,1)\n",
    "    plt.plot(range(1, epochs+1), history[\"train_loss\"], label=\"train_loss\")\n",
    "    plt.plot(range(1, epochs+1), history[\"val_loss\"], label=\"val_loss\")\n",
    "    plt.xlabel(\"Epoch\")\n",
    "    plt.ylabel(\"Loss\")\n",
    "    plt.legend()\n",
    "    plt.grid(True)\n",
    "\n",
    "    plt.subplot(1,2,2)\n",
    "    plt.plot(range(1, epochs+1), history[\"train_acc\"], label=\"train_acc\")\n",
    "    plt.plot(range(1, epochs+1), history[\"val_acc\"], label=\"val_acc\")\n",
    "    plt.xlabel(\"Epoch\")\n",
    "    plt.ylabel(\"Accuracy (%)\")\n",
    "    plt.legend()\n",
    "    plt.grid(True)\n",
    "\n",
    "    if save_path:\n",
    "        plt.savefig(save_path, dpi=150)\n",
    "    plt.show()"
   ]
  },
  {
   "cell_type": "code",
   "execution_count": null,
   "metadata": {
    "execution": {
     "iopub.execute_input": "2025-08-25T12:23:04.175105Z",
     "iopub.status.busy": "2025-08-25T12:23:04.174857Z",
     "iopub.status.idle": "2025-08-25T12:48:07.959826Z",
     "shell.execute_reply": "2025-08-25T12:48:07.958992Z",
     "shell.execute_reply.started": "2025-08-25T12:23:04.175078Z"
    },
    "trusted": true
   },
   "outputs": [
    {
     "name": "stderr",
     "output_type": "stream",
     "text": [
      "/tmp/ipykernel_3685/2769703757.py:13: FutureWarning: `torch.cuda.amp.GradScaler(args...)` is deprecated. Please use `torch.amp.GradScaler('cuda', args...)` instead.\n",
      "  scaler = torch.cuda.amp.GradScaler() if device.startswith(\"cuda\") else None\n",
      "Train Epoch 1:   0%|          | 0/391 [00:00<?, ?it/s]/tmp/ipykernel_3685/3661233846.py:25: FutureWarning: `torch.cuda.amp.autocast(args...)` is deprecated. Please use `torch.amp.autocast('cuda', args...)` instead.\n",
      "  with torch.cuda.amp.autocast(enabled=(scaler is not None)):\n",
      "                                                                                         \r"
     ]
    },
    {
     "name": "stdout",
     "output_type": "stream",
     "text": [
      "Epoch [1/100]: train_loss=2.0287, train_acc=23.76% | val_loss=1.9376, val_acc=26.75% | lr=0.099975 | best_val_acc=26.75%\n"
     ]
    },
    {
     "name": "stderr",
     "output_type": "stream",
     "text": [
      "                                                                                         \r"
     ]
    },
    {
     "name": "stdout",
     "output_type": "stream",
     "text": [
      "Epoch [2/100]: train_loss=1.8360, train_acc=33.79% | val_loss=1.8225, val_acc=34.71% | lr=0.099901 | best_val_acc=34.71%\n"
     ]
    },
    {
     "name": "stderr",
     "output_type": "stream",
     "text": [
      "                                                                                         \r"
     ]
    },
    {
     "name": "stdout",
     "output_type": "stream",
     "text": [
      "Epoch [3/100]: train_loss=1.6909, train_acc=43.10% | val_loss=1.5585, val_acc=51.74% | lr=0.099778 | best_val_acc=51.74%\n"
     ]
    },
    {
     "name": "stderr",
     "output_type": "stream",
     "text": [
      "                                                                                         \r"
     ]
    },
    {
     "name": "stdout",
     "output_type": "stream",
     "text": [
      "Epoch [4/100]: train_loss=1.5595, train_acc=52.51% | val_loss=1.5314, val_acc=53.60% | lr=0.099606 | best_val_acc=53.60%\n"
     ]
    },
    {
     "name": "stderr",
     "output_type": "stream",
     "text": [
      "                                                                                         \r"
     ]
    },
    {
     "name": "stdout",
     "output_type": "stream",
     "text": [
      "Epoch [5/100]: train_loss=1.4545, train_acc=58.51% | val_loss=1.2858, val_acc=65.41% | lr=0.099384 | best_val_acc=65.41%\n"
     ]
    },
    {
     "name": "stderr",
     "output_type": "stream",
     "text": [
      "                                                                                         \r"
     ]
    },
    {
     "name": "stdout",
     "output_type": "stream",
     "text": [
      "Epoch [6/100]: train_loss=1.3871, train_acc=62.04% | val_loss=1.3534, val_acc=61.53% | lr=0.099114 | best_val_acc=65.41%\n"
     ]
    },
    {
     "name": "stderr",
     "output_type": "stream",
     "text": [
      "                                                                                         \r"
     ]
    },
    {
     "name": "stdout",
     "output_type": "stream",
     "text": [
      "Epoch [7/100]: train_loss=1.3345, train_acc=64.75% | val_loss=1.2579, val_acc=68.90% | lr=0.098796 | best_val_acc=68.90%\n"
     ]
    },
    {
     "name": "stderr",
     "output_type": "stream",
     "text": [
      "                                                                                         \r"
     ]
    },
    {
     "name": "stdout",
     "output_type": "stream",
     "text": [
      "Epoch [8/100]: train_loss=1.2941, train_acc=66.82% | val_loss=1.2939, val_acc=67.01% | lr=0.098429 | best_val_acc=68.90%\n"
     ]
    },
    {
     "name": "stderr",
     "output_type": "stream",
     "text": [
      "                                                                                         \r"
     ]
    },
    {
     "name": "stdout",
     "output_type": "stream",
     "text": [
      "Epoch [9/100]: train_loss=1.2658, train_acc=68.04% | val_loss=1.3233, val_acc=65.43% | lr=0.098015 | best_val_acc=68.90%\n"
     ]
    },
    {
     "name": "stderr",
     "output_type": "stream",
     "text": [
      "                                                                                          \r"
     ]
    },
    {
     "name": "stdout",
     "output_type": "stream",
     "text": [
      "Epoch [10/100]: train_loss=1.2452, train_acc=68.97% | val_loss=1.1582, val_acc=72.26% | lr=0.097553 | best_val_acc=72.26%\n"
     ]
    },
    {
     "name": "stderr",
     "output_type": "stream",
     "text": [
      "                                                                                          \r"
     ]
    },
    {
     "name": "stdout",
     "output_type": "stream",
     "text": [
      "Epoch [11/100]: train_loss=1.2170, train_acc=70.61% | val_loss=1.2219, val_acc=71.84% | lr=0.097044 | best_val_acc=72.26%\n"
     ]
    },
    {
     "name": "stderr",
     "output_type": "stream",
     "text": [
      "                                                                                          \r"
     ]
    },
    {
     "name": "stdout",
     "output_type": "stream",
     "text": [
      "Epoch [12/100]: train_loss=1.1965, train_acc=71.34% | val_loss=1.1373, val_acc=73.29% | lr=0.096489 | best_val_acc=73.29%\n"
     ]
    },
    {
     "name": "stderr",
     "output_type": "stream",
     "text": [
      "                                                                                          \r"
     ]
    },
    {
     "name": "stdout",
     "output_type": "stream",
     "text": [
      "Epoch [13/100]: train_loss=1.1804, train_acc=71.81% | val_loss=1.1184, val_acc=74.17% | lr=0.095888 | best_val_acc=74.17%\n"
     ]
    },
    {
     "name": "stderr",
     "output_type": "stream",
     "text": [
      "                                                                                          \r"
     ]
    },
    {
     "name": "stdout",
     "output_type": "stream",
     "text": [
      "Epoch [14/100]: train_loss=1.1683, train_acc=72.45% | val_loss=1.0536, val_acc=76.10% | lr=0.095242 | best_val_acc=76.10%\n"
     ]
    },
    {
     "name": "stderr",
     "output_type": "stream",
     "text": [
      "                                                                                          \r"
     ]
    },
    {
     "name": "stdout",
     "output_type": "stream",
     "text": [
      "Epoch [15/100]: train_loss=1.1620, train_acc=72.71% | val_loss=1.2361, val_acc=70.33% | lr=0.094551 | best_val_acc=76.10%\n"
     ]
    },
    {
     "name": "stderr",
     "output_type": "stream",
     "text": [
      "                                                                                          \r"
     ]
    },
    {
     "name": "stdout",
     "output_type": "stream",
     "text": [
      "Epoch [16/100]: train_loss=1.1531, train_acc=73.03% | val_loss=1.2116, val_acc=72.63% | lr=0.093816 | best_val_acc=76.10%\n"
     ]
    },
    {
     "name": "stderr",
     "output_type": "stream",
     "text": [
      "                                                                                          \r"
     ]
    },
    {
     "name": "stdout",
     "output_type": "stream",
     "text": [
      "Epoch [17/100]: train_loss=1.1469, train_acc=73.50% | val_loss=1.0427, val_acc=78.06% | lr=0.093038 | best_val_acc=78.06%\n"
     ]
    },
    {
     "name": "stderr",
     "output_type": "stream",
     "text": [
      "                                                                                          \r"
     ]
    },
    {
     "name": "stdout",
     "output_type": "stream",
     "text": [
      "Epoch [18/100]: train_loss=1.1333, train_acc=73.78% | val_loss=1.1779, val_acc=73.58% | lr=0.092217 | best_val_acc=78.06%\n"
     ]
    },
    {
     "name": "stderr",
     "output_type": "stream",
     "text": [
      "                                                                                          \r"
     ]
    },
    {
     "name": "stdout",
     "output_type": "stream",
     "text": [
      "Epoch [19/100]: train_loss=1.1221, train_acc=74.32% | val_loss=1.0206, val_acc=77.82% | lr=0.091355 | best_val_acc=78.06%\n"
     ]
    },
    {
     "name": "stderr",
     "output_type": "stream",
     "text": [
      "                                                                                          \r"
     ]
    },
    {
     "name": "stdout",
     "output_type": "stream",
     "text": [
      "Epoch [20/100]: train_loss=1.1133, train_acc=74.80% | val_loss=1.1140, val_acc=75.07% | lr=0.090452 | best_val_acc=78.06%\n"
     ]
    },
    {
     "name": "stderr",
     "output_type": "stream",
     "text": [
      "                                                                                          \r"
     ]
    },
    {
     "name": "stdout",
     "output_type": "stream",
     "text": [
      "Epoch [21/100]: train_loss=1.1053, train_acc=75.23% | val_loss=1.1186, val_acc=73.61% | lr=0.089509 | best_val_acc=78.06%\n"
     ]
    },
    {
     "name": "stderr",
     "output_type": "stream",
     "text": [
      "                                                                                          \r"
     ]
    },
    {
     "name": "stdout",
     "output_type": "stream",
     "text": [
      "Epoch [22/100]: train_loss=1.0921, train_acc=75.68% | val_loss=0.9885, val_acc=79.59% | lr=0.088527 | best_val_acc=79.59%\n"
     ]
    },
    {
     "name": "stderr",
     "output_type": "stream",
     "text": [
      "                                                                                          \r"
     ]
    },
    {
     "name": "stdout",
     "output_type": "stream",
     "text": [
      "Epoch [23/100]: train_loss=1.0898, train_acc=75.89% | val_loss=1.1935, val_acc=71.45% | lr=0.087507 | best_val_acc=79.59%\n"
     ]
    },
    {
     "name": "stderr",
     "output_type": "stream",
     "text": [
      "                                                                                          \r"
     ]
    },
    {
     "name": "stdout",
     "output_type": "stream",
     "text": [
      "Epoch [24/100]: train_loss=1.0883, train_acc=75.81% | val_loss=1.0641, val_acc=76.56% | lr=0.086450 | best_val_acc=79.59%\n"
     ]
    },
    {
     "name": "stderr",
     "output_type": "stream",
     "text": [
      "                                                                                          \r"
     ]
    },
    {
     "name": "stdout",
     "output_type": "stream",
     "text": [
      "Epoch [25/100]: train_loss=1.0724, train_acc=76.38% | val_loss=1.0513, val_acc=77.32% | lr=0.085357 | best_val_acc=79.59%\n"
     ]
    },
    {
     "name": "stderr",
     "output_type": "stream",
     "text": [
      "                                                                                          \r"
     ]
    },
    {
     "name": "stdout",
     "output_type": "stream",
     "text": [
      "Epoch [26/100]: train_loss=1.0681, train_acc=76.45% | val_loss=1.1467, val_acc=73.86% | lr=0.084229 | best_val_acc=79.59%\n"
     ]
    },
    {
     "name": "stderr",
     "output_type": "stream",
     "text": [
      "                                                                                          \r"
     ]
    },
    {
     "name": "stdout",
     "output_type": "stream",
     "text": [
      "Epoch [27/100]: train_loss=1.0622, train_acc=76.89% | val_loss=1.2027, val_acc=72.10% | lr=0.083067 | best_val_acc=79.59%\n"
     ]
    },
    {
     "name": "stderr",
     "output_type": "stream",
     "text": [
      "                                                                                          \r"
     ]
    },
    {
     "name": "stdout",
     "output_type": "stream",
     "text": [
      "Epoch [28/100]: train_loss=1.0612, train_acc=76.84% | val_loss=1.0464, val_acc=77.02% | lr=0.081873 | best_val_acc=79.59%\n"
     ]
    },
    {
     "name": "stderr",
     "output_type": "stream",
     "text": [
      "                                                                                          \r"
     ]
    },
    {
     "name": "stdout",
     "output_type": "stream",
     "text": [
      "Epoch [29/100]: train_loss=1.0453, train_acc=77.54% | val_loss=1.0811, val_acc=76.43% | lr=0.080647 | best_val_acc=79.59%\n"
     ]
    },
    {
     "name": "stderr",
     "output_type": "stream",
     "text": [
      "                                                                                          \r"
     ]
    },
    {
     "name": "stdout",
     "output_type": "stream",
     "text": [
      "Epoch [30/100]: train_loss=1.0409, train_acc=77.60% | val_loss=1.2006, val_acc=71.61% | lr=0.079391 | best_val_acc=79.59%\n"
     ]
    },
    {
     "name": "stderr",
     "output_type": "stream",
     "text": [
      "                                                                                          \r"
     ]
    },
    {
     "name": "stdout",
     "output_type": "stream",
     "text": [
      "Epoch [31/100]: train_loss=1.0400, train_acc=77.91% | val_loss=0.9490, val_acc=81.32% | lr=0.078106 | best_val_acc=81.32%\n"
     ]
    },
    {
     "name": "stderr",
     "output_type": "stream",
     "text": [
      "                                                                                          \r"
     ]
    },
    {
     "name": "stdout",
     "output_type": "stream",
     "text": [
      "Epoch [32/100]: train_loss=1.0311, train_acc=78.15% | val_loss=1.0197, val_acc=78.97% | lr=0.076794 | best_val_acc=81.32%\n"
     ]
    },
    {
     "name": "stderr",
     "output_type": "stream",
     "text": [
      "                                                                                          \r"
     ]
    },
    {
     "name": "stdout",
     "output_type": "stream",
     "text": [
      "Epoch [33/100]: train_loss=1.0292, train_acc=78.04% | val_loss=1.0400, val_acc=77.85% | lr=0.075455 | best_val_acc=81.32%\n"
     ]
    },
    {
     "name": "stderr",
     "output_type": "stream",
     "text": [
      "                                                                                          \r"
     ]
    },
    {
     "name": "stdout",
     "output_type": "stream",
     "text": [
      "Epoch [34/100]: train_loss=1.0213, train_acc=78.59% | val_loss=1.0057, val_acc=79.18% | lr=0.074090 | best_val_acc=81.32%\n"
     ]
    },
    {
     "name": "stderr",
     "output_type": "stream",
     "text": [
      "                                                                                          \r"
     ]
    },
    {
     "name": "stdout",
     "output_type": "stream",
     "text": [
      "Epoch [35/100]: train_loss=1.0105, train_acc=79.02% | val_loss=0.8725, val_acc=83.97% | lr=0.072702 | best_val_acc=83.97%\n"
     ]
    },
    {
     "name": "stderr",
     "output_type": "stream",
     "text": [
      "                                                                                          \r"
     ]
    },
    {
     "name": "stdout",
     "output_type": "stream",
     "text": [
      "Epoch [36/100]: train_loss=1.0025, train_acc=79.33% | val_loss=0.9278, val_acc=82.03% | lr=0.071292 | best_val_acc=83.97%\n"
     ]
    },
    {
     "name": "stderr",
     "output_type": "stream",
     "text": [
      "                                                                                          \r"
     ]
    },
    {
     "name": "stdout",
     "output_type": "stream",
     "text": [
      "Epoch [37/100]: train_loss=0.9983, train_acc=79.53% | val_loss=0.9089, val_acc=82.94% | lr=0.069860 | best_val_acc=83.97%\n"
     ]
    },
    {
     "name": "stderr",
     "output_type": "stream",
     "text": [
      "                                                                                          \r"
     ]
    },
    {
     "name": "stdout",
     "output_type": "stream",
     "text": [
      "Epoch [38/100]: train_loss=0.9978, train_acc=79.44% | val_loss=1.0264, val_acc=77.54% | lr=0.068409 | best_val_acc=83.97%\n"
     ]
    },
    {
     "name": "stderr",
     "output_type": "stream",
     "text": [
      "                                                                                          \r"
     ]
    },
    {
     "name": "stdout",
     "output_type": "stream",
     "text": [
      "Epoch [39/100]: train_loss=0.9918, train_acc=79.50% | val_loss=0.9600, val_acc=80.45% | lr=0.066940 | best_val_acc=83.97%\n"
     ]
    },
    {
     "name": "stderr",
     "output_type": "stream",
     "text": [
      "                                                                                          \r"
     ]
    },
    {
     "name": "stdout",
     "output_type": "stream",
     "text": [
      "Epoch [40/100]: train_loss=0.9848, train_acc=80.04% | val_loss=0.9318, val_acc=81.64% | lr=0.065454 | best_val_acc=83.97%\n"
     ]
    },
    {
     "name": "stderr",
     "output_type": "stream",
     "text": [
      "                                                                                          \r"
     ]
    },
    {
     "name": "stdout",
     "output_type": "stream",
     "text": [
      "Epoch [41/100]: train_loss=0.9747, train_acc=80.39% | val_loss=1.0059, val_acc=79.76% | lr=0.063953 | best_val_acc=83.97%\n"
     ]
    },
    {
     "name": "stderr",
     "output_type": "stream",
     "text": [
      "                                                                                          \r"
     ]
    },
    {
     "name": "stdout",
     "output_type": "stream",
     "text": [
      "Epoch [42/100]: train_loss=0.9703, train_acc=80.53% | val_loss=1.0166, val_acc=79.31% | lr=0.062438 | best_val_acc=83.97%\n"
     ]
    },
    {
     "name": "stderr",
     "output_type": "stream",
     "text": [
      "                                                                                          \r"
     ]
    },
    {
     "name": "stdout",
     "output_type": "stream",
     "text": [
      "Epoch [43/100]: train_loss=0.9573, train_acc=81.04% | val_loss=1.1756, val_acc=73.50% | lr=0.060911 | best_val_acc=83.97%\n"
     ]
    },
    {
     "name": "stderr",
     "output_type": "stream",
     "text": [
      "                                                                                          \r"
     ]
    },
    {
     "name": "stdout",
     "output_type": "stream",
     "text": [
      "Epoch [44/100]: train_loss=0.9584, train_acc=81.06% | val_loss=0.9419, val_acc=82.02% | lr=0.059373 | best_val_acc=83.97%\n"
     ]
    },
    {
     "name": "stderr",
     "output_type": "stream",
     "text": [
      "                                                                                          \r"
     ]
    },
    {
     "name": "stdout",
     "output_type": "stream",
     "text": [
      "Epoch [45/100]: train_loss=0.9486, train_acc=81.33% | val_loss=1.0171, val_acc=79.11% | lr=0.057826 | best_val_acc=83.97%\n"
     ]
    },
    {
     "name": "stderr",
     "output_type": "stream",
     "text": [
      "                                                                                          \r"
     ]
    },
    {
     "name": "stdout",
     "output_type": "stream",
     "text": [
      "Epoch [46/100]: train_loss=0.9433, train_acc=81.69% | val_loss=1.1028, val_acc=76.22% | lr=0.056271 | best_val_acc=83.97%\n"
     ]
    },
    {
     "name": "stderr",
     "output_type": "stream",
     "text": [
      "                                                                                          \r"
     ]
    },
    {
     "name": "stdout",
     "output_type": "stream",
     "text": [
      "Epoch [47/100]: train_loss=0.9424, train_acc=81.70% | val_loss=0.8472, val_acc=85.13% | lr=0.054710 | best_val_acc=85.13%\n"
     ]
    },
    {
     "name": "stderr",
     "output_type": "stream",
     "text": [
      "                                                                                          \r"
     ]
    },
    {
     "name": "stdout",
     "output_type": "stream",
     "text": [
      "Epoch [48/100]: train_loss=0.9366, train_acc=81.84% | val_loss=0.8239, val_acc=86.47% | lr=0.053144 | best_val_acc=86.47%\n"
     ]
    },
    {
     "name": "stderr",
     "output_type": "stream",
     "text": [
      "                                                                                          \r"
     ]
    },
    {
     "name": "stdout",
     "output_type": "stream",
     "text": [
      "Epoch [49/100]: train_loss=0.9264, train_acc=82.21% | val_loss=0.8525, val_acc=84.98% | lr=0.051575 | best_val_acc=86.47%\n"
     ]
    },
    {
     "name": "stderr",
     "output_type": "stream",
     "text": [
      "                                                                                          \r"
     ]
    },
    {
     "name": "stdout",
     "output_type": "stream",
     "text": [
      "Epoch [50/100]: train_loss=0.9206, train_acc=82.58% | val_loss=0.8298, val_acc=86.07% | lr=0.050005 | best_val_acc=86.47%\n"
     ]
    },
    {
     "name": "stderr",
     "output_type": "stream",
     "text": [
      "                                                                                          \r"
     ]
    },
    {
     "name": "stdout",
     "output_type": "stream",
     "text": [
      "Epoch [51/100]: train_loss=0.9182, train_acc=82.69% | val_loss=0.8660, val_acc=84.61% | lr=0.048435 | best_val_acc=86.47%\n"
     ]
    },
    {
     "name": "stderr",
     "output_type": "stream",
     "text": [
      "                                                                                          \r"
     ]
    },
    {
     "name": "stdout",
     "output_type": "stream",
     "text": [
      "Epoch [52/100]: train_loss=0.9090, train_acc=82.94% | val_loss=0.8955, val_acc=83.51% | lr=0.046866 | best_val_acc=86.47%\n"
     ]
    },
    {
     "name": "stderr",
     "output_type": "stream",
     "text": [
      "                                                                                          \r"
     ]
    },
    {
     "name": "stdout",
     "output_type": "stream",
     "text": [
      "Epoch [53/100]: train_loss=0.8974, train_acc=83.51% | val_loss=0.8226, val_acc=86.47% | lr=0.045300 | best_val_acc=86.47%\n"
     ]
    },
    {
     "name": "stderr",
     "output_type": "stream",
     "text": [
      "                                                                                          \r"
     ]
    },
    {
     "name": "stdout",
     "output_type": "stream",
     "text": [
      "Epoch [54/100]: train_loss=0.8939, train_acc=83.67% | val_loss=0.8662, val_acc=84.87% | lr=0.043739 | best_val_acc=86.47%\n"
     ]
    },
    {
     "name": "stderr",
     "output_type": "stream",
     "text": [
      "                                                                                          \r"
     ]
    },
    {
     "name": "stdout",
     "output_type": "stream",
     "text": [
      "Epoch [55/100]: train_loss=0.8893, train_acc=83.62% | val_loss=0.7973, val_acc=87.15% | lr=0.042184 | best_val_acc=87.15%\n"
     ]
    },
    {
     "name": "stderr",
     "output_type": "stream",
     "text": [
      "                                                                                          \r"
     ]
    },
    {
     "name": "stdout",
     "output_type": "stream",
     "text": [
      "Epoch [56/100]: train_loss=0.8804, train_acc=84.17% | val_loss=0.8707, val_acc=84.34% | lr=0.040637 | best_val_acc=87.15%\n"
     ]
    },
    {
     "name": "stderr",
     "output_type": "stream",
     "text": [
      "                                                                                          \r"
     ]
    },
    {
     "name": "stdout",
     "output_type": "stream",
     "text": [
      "Epoch [57/100]: train_loss=0.8789, train_acc=84.06% | val_loss=0.8091, val_acc=85.91% | lr=0.039099 | best_val_acc=87.15%\n"
     ]
    },
    {
     "name": "stderr",
     "output_type": "stream",
     "text": [
      "                                                                                          \r"
     ]
    },
    {
     "name": "stdout",
     "output_type": "stream",
     "text": [
      "Epoch [58/100]: train_loss=0.8699, train_acc=84.58% | val_loss=0.7918, val_acc=87.58% | lr=0.037572 | best_val_acc=87.58%\n"
     ]
    },
    {
     "name": "stderr",
     "output_type": "stream",
     "text": [
      "                                                                                          \r"
     ]
    },
    {
     "name": "stdout",
     "output_type": "stream",
     "text": [
      "Epoch [59/100]: train_loss=0.8587, train_acc=85.21% | val_loss=0.8282, val_acc=85.74% | lr=0.036057 | best_val_acc=87.58%\n"
     ]
    },
    {
     "name": "stderr",
     "output_type": "stream",
     "text": [
      "                                                                                          \r"
     ]
    },
    {
     "name": "stdout",
     "output_type": "stream",
     "text": [
      "Epoch [60/100]: train_loss=0.8538, train_acc=85.38% | val_loss=0.8549, val_acc=84.84% | lr=0.034556 | best_val_acc=87.58%\n"
     ]
    },
    {
     "name": "stderr",
     "output_type": "stream",
     "text": [
      "                                                                                          \r"
     ]
    },
    {
     "name": "stdout",
     "output_type": "stream",
     "text": [
      "Epoch [61/100]: train_loss=0.8503, train_acc=85.40% | val_loss=0.7782, val_acc=87.98% | lr=0.033070 | best_val_acc=87.98%\n"
     ]
    },
    {
     "name": "stderr",
     "output_type": "stream",
     "text": [
      "                                                                                          \r"
     ]
    },
    {
     "name": "stdout",
     "output_type": "stream",
     "text": [
      "Epoch [62/100]: train_loss=0.8403, train_acc=85.94% | val_loss=0.7704, val_acc=88.61% | lr=0.031601 | best_val_acc=88.61%\n"
     ]
    },
    {
     "name": "stderr",
     "output_type": "stream",
     "text": [
      "                                                                                          \r"
     ]
    },
    {
     "name": "stdout",
     "output_type": "stream",
     "text": [
      "Epoch [63/100]: train_loss=0.8326, train_acc=86.01% | val_loss=0.7583, val_acc=88.91% | lr=0.030150 | best_val_acc=88.91%\n"
     ]
    },
    {
     "name": "stderr",
     "output_type": "stream",
     "text": [
      "                                                                                          \r"
     ]
    },
    {
     "name": "stdout",
     "output_type": "stream",
     "text": [
      "Epoch [64/100]: train_loss=0.8200, train_acc=86.58% | val_loss=0.8481, val_acc=84.80% | lr=0.028718 | best_val_acc=88.91%\n"
     ]
    },
    {
     "name": "stderr",
     "output_type": "stream",
     "text": [
      "                                                                                          \r"
     ]
    },
    {
     "name": "stdout",
     "output_type": "stream",
     "text": [
      "Epoch [65/100]: train_loss=0.8169, train_acc=86.76% | val_loss=0.7442, val_acc=89.29% | lr=0.027308 | best_val_acc=89.29%\n"
     ]
    },
    {
     "name": "stderr",
     "output_type": "stream",
     "text": [
      "                                                                                          \r"
     ]
    },
    {
     "name": "stdout",
     "output_type": "stream",
     "text": [
      "Epoch [66/100]: train_loss=0.8097, train_acc=87.23% | val_loss=0.7869, val_acc=87.78% | lr=0.025920 | best_val_acc=89.29%\n"
     ]
    },
    {
     "name": "stderr",
     "output_type": "stream",
     "text": [
      "                                                                                          \r"
     ]
    },
    {
     "name": "stdout",
     "output_type": "stream",
     "text": [
      "Epoch [67/100]: train_loss=0.8016, train_acc=87.50% | val_loss=0.7688, val_acc=88.74% | lr=0.024555 | best_val_acc=89.29%\n"
     ]
    },
    {
     "name": "stderr",
     "output_type": "stream",
     "text": [
      "                                                                                          \r"
     ]
    },
    {
     "name": "stdout",
     "output_type": "stream",
     "text": [
      "Epoch [68/100]: train_loss=0.7889, train_acc=87.88% | val_loss=0.7727, val_acc=88.29% | lr=0.023216 | best_val_acc=89.29%\n"
     ]
    },
    {
     "name": "stderr",
     "output_type": "stream",
     "text": [
      "                                                                                          \r"
     ]
    },
    {
     "name": "stdout",
     "output_type": "stream",
     "text": [
      "Epoch [69/100]: train_loss=0.7871, train_acc=88.09% | val_loss=0.7287, val_acc=90.14% | lr=0.021904 | best_val_acc=90.14%\n"
     ]
    },
    {
     "name": "stderr",
     "output_type": "stream",
     "text": [
      "                                                                                          \r"
     ]
    },
    {
     "name": "stdout",
     "output_type": "stream",
     "text": [
      "Epoch [70/100]: train_loss=0.7788, train_acc=88.43% | val_loss=0.7198, val_acc=90.47% | lr=0.020619 | best_val_acc=90.47%\n"
     ]
    },
    {
     "name": "stderr",
     "output_type": "stream",
     "text": [
      "                                                                                          \r"
     ]
    },
    {
     "name": "stdout",
     "output_type": "stream",
     "text": [
      "Epoch [71/100]: train_loss=0.7688, train_acc=88.87% | val_loss=0.7462, val_acc=89.54% | lr=0.019363 | best_val_acc=90.47%\n"
     ]
    },
    {
     "name": "stderr",
     "output_type": "stream",
     "text": [
      "                                                                                          \r"
     ]
    },
    {
     "name": "stdout",
     "output_type": "stream",
     "text": [
      "Epoch [72/100]: train_loss=0.7635, train_acc=89.19% | val_loss=0.7436, val_acc=89.88% | lr=0.018137 | best_val_acc=90.47%\n"
     ]
    },
    {
     "name": "stderr",
     "output_type": "stream",
     "text": [
      "                                                                                          \r"
     ]
    },
    {
     "name": "stdout",
     "output_type": "stream",
     "text": [
      "Epoch [73/100]: train_loss=0.7575, train_acc=89.26% | val_loss=0.7177, val_acc=90.42% | lr=0.016943 | best_val_acc=90.47%\n"
     ]
    },
    {
     "name": "stderr",
     "output_type": "stream",
     "text": [
      "                                                                                          \r"
     ]
    },
    {
     "name": "stdout",
     "output_type": "stream",
     "text": [
      "Epoch [74/100]: train_loss=0.7437, train_acc=89.90% | val_loss=0.7431, val_acc=89.18% | lr=0.015781 | best_val_acc=90.47%\n"
     ]
    },
    {
     "name": "stderr",
     "output_type": "stream",
     "text": [
      "                                                                                          \r"
     ]
    },
    {
     "name": "stdout",
     "output_type": "stream",
     "text": [
      "Epoch [75/100]: train_loss=0.7388, train_acc=90.15% | val_loss=0.7207, val_acc=90.54% | lr=0.014653 | best_val_acc=90.54%\n"
     ]
    },
    {
     "name": "stderr",
     "output_type": "stream",
     "text": [
      "                                                                                          \r"
     ]
    },
    {
     "name": "stdout",
     "output_type": "stream",
     "text": [
      "Epoch [76/100]: train_loss=0.7293, train_acc=90.46% | val_loss=0.7026, val_acc=91.38% | lr=0.013560 | best_val_acc=91.38%\n"
     ]
    },
    {
     "name": "stderr",
     "output_type": "stream",
     "text": [
      "                                                                                          \r"
     ]
    },
    {
     "name": "stdout",
     "output_type": "stream",
     "text": [
      "Epoch [77/100]: train_loss=0.7198, train_acc=90.87% | val_loss=0.6897, val_acc=92.01% | lr=0.012503 | best_val_acc=92.01%\n"
     ]
    },
    {
     "name": "stderr",
     "output_type": "stream",
     "text": [
      "                                                                                          \r"
     ]
    },
    {
     "name": "stdout",
     "output_type": "stream",
     "text": [
      "Epoch [78/100]: train_loss=0.7188, train_acc=90.98% | val_loss=0.7405, val_acc=89.81% | lr=0.011483 | best_val_acc=92.01%\n"
     ]
    },
    {
     "name": "stderr",
     "output_type": "stream",
     "text": [
      "                                                                                          \r"
     ]
    },
    {
     "name": "stdout",
     "output_type": "stream",
     "text": [
      "Epoch [79/100]: train_loss=0.7075, train_acc=91.44% | val_loss=0.6831, val_acc=92.11% | lr=0.010501 | best_val_acc=92.11%\n"
     ]
    },
    {
     "name": "stderr",
     "output_type": "stream",
     "text": [
      "                                                                                          \r"
     ]
    },
    {
     "name": "stdout",
     "output_type": "stream",
     "text": [
      "Epoch [80/100]: train_loss=0.6934, train_acc=92.05% | val_loss=0.6915, val_acc=91.77% | lr=0.009558 | best_val_acc=92.11%\n"
     ]
    },
    {
     "name": "stderr",
     "output_type": "stream",
     "text": [
      "                                                                                          \r"
     ]
    },
    {
     "name": "stdout",
     "output_type": "stream",
     "text": [
      "Epoch [81/100]: train_loss=0.6890, train_acc=92.29% | val_loss=0.6681, val_acc=92.78% | lr=0.008655 | best_val_acc=92.78%\n"
     ]
    },
    {
     "name": "stderr",
     "output_type": "stream",
     "text": [
      "                                                                                          \r"
     ]
    },
    {
     "name": "stdout",
     "output_type": "stream",
     "text": [
      "Epoch [82/100]: train_loss=0.6806, train_acc=92.64% | val_loss=0.6652, val_acc=92.92% | lr=0.007793 | best_val_acc=92.92%\n"
     ]
    },
    {
     "name": "stderr",
     "output_type": "stream",
     "text": [
      "                                                                                          \r"
     ]
    },
    {
     "name": "stdout",
     "output_type": "stream",
     "text": [
      "Epoch [83/100]: train_loss=0.6723, train_acc=92.98% | val_loss=0.6783, val_acc=92.41% | lr=0.006972 | best_val_acc=92.92%\n"
     ]
    },
    {
     "name": "stderr",
     "output_type": "stream",
     "text": [
      "                                                                                          \r"
     ]
    },
    {
     "name": "stdout",
     "output_type": "stream",
     "text": [
      "Epoch [84/100]: train_loss=0.6654, train_acc=93.30% | val_loss=0.6654, val_acc=92.96% | lr=0.006194 | best_val_acc=92.96%\n"
     ]
    },
    {
     "name": "stderr",
     "output_type": "stream",
     "text": [
      "                                                                                          \r"
     ]
    },
    {
     "name": "stdout",
     "output_type": "stream",
     "text": [
      "Epoch [85/100]: train_loss=0.6545, train_acc=93.71% | val_loss=0.6599, val_acc=92.92% | lr=0.005459 | best_val_acc=92.96%\n"
     ]
    },
    {
     "name": "stderr",
     "output_type": "stream",
     "text": [
      "                                                                                          \r"
     ]
    },
    {
     "name": "stdout",
     "output_type": "stream",
     "text": [
      "Epoch [86/100]: train_loss=0.6493, train_acc=94.04% | val_loss=0.6567, val_acc=93.33% | lr=0.004768 | best_val_acc=93.33%\n"
     ]
    },
    {
     "name": "stderr",
     "output_type": "stream",
     "text": [
      "                                                                                          \r"
     ]
    },
    {
     "name": "stdout",
     "output_type": "stream",
     "text": [
      "Epoch [87/100]: train_loss=0.6437, train_acc=94.32% | val_loss=0.6678, val_acc=92.78% | lr=0.004122 | best_val_acc=93.33%\n"
     ]
    },
    {
     "name": "stderr",
     "output_type": "stream",
     "text": [
      "                                                                                          \r"
     ]
    },
    {
     "name": "stdout",
     "output_type": "stream",
     "text": [
      "Epoch [88/100]: train_loss=0.6326, train_acc=94.76% | val_loss=0.6502, val_acc=93.75% | lr=0.003521 | best_val_acc=93.75%\n"
     ]
    },
    {
     "name": "stderr",
     "output_type": "stream",
     "text": [
      "                                                                                          \r"
     ]
    },
    {
     "name": "stdout",
     "output_type": "stream",
     "text": [
      "Epoch [89/100]: train_loss=0.6292, train_acc=94.85% | val_loss=0.6449, val_acc=93.71% | lr=0.002966 | best_val_acc=93.75%\n"
     ]
    },
    {
     "name": "stderr",
     "output_type": "stream",
     "text": [
      "                                                                                          \r"
     ]
    },
    {
     "name": "stdout",
     "output_type": "stream",
     "text": [
      "Epoch [90/100]: train_loss=0.6222, train_acc=95.17% | val_loss=0.6509, val_acc=93.58% | lr=0.002457 | best_val_acc=93.75%\n"
     ]
    },
    {
     "name": "stderr",
     "output_type": "stream",
     "text": [
      "                                                                                          \r"
     ]
    },
    {
     "name": "stdout",
     "output_type": "stream",
     "text": [
      "Epoch [91/100]: train_loss=0.6160, train_acc=95.48% | val_loss=0.6455, val_acc=93.92% | lr=0.001995 | best_val_acc=93.92%\n"
     ]
    },
    {
     "name": "stderr",
     "output_type": "stream",
     "text": [
      "                                                                                          \r"
     ]
    },
    {
     "name": "stdout",
     "output_type": "stream",
     "text": [
      "Epoch [92/100]: train_loss=0.6120, train_acc=95.66% | val_loss=0.6429, val_acc=93.85% | lr=0.001581 | best_val_acc=93.92%\n"
     ]
    },
    {
     "name": "stderr",
     "output_type": "stream",
     "text": [
      "                                                                                          \r"
     ]
    },
    {
     "name": "stdout",
     "output_type": "stream",
     "text": [
      "Epoch [93/100]: train_loss=0.6057, train_acc=95.91% | val_loss=0.6430, val_acc=93.97% | lr=0.001214 | best_val_acc=93.97%\n"
     ]
    },
    {
     "name": "stderr",
     "output_type": "stream",
     "text": [
      "                                                                                          \r"
     ]
    },
    {
     "name": "stdout",
     "output_type": "stream",
     "text": [
      "Epoch [94/100]: train_loss=0.6035, train_acc=95.99% | val_loss=0.6390, val_acc=93.92% | lr=0.000896 | best_val_acc=93.97%\n"
     ]
    },
    {
     "name": "stderr",
     "output_type": "stream",
     "text": [
      "                                                                                          \r"
     ]
    },
    {
     "name": "stdout",
     "output_type": "stream",
     "text": [
      "Epoch [95/100]: train_loss=0.6001, train_acc=96.18% | val_loss=0.6382, val_acc=94.20% | lr=0.000626 | best_val_acc=94.20%\n"
     ]
    },
    {
     "name": "stderr",
     "output_type": "stream",
     "text": [
      "                                                                                          \r"
     ]
    },
    {
     "name": "stdout",
     "output_type": "stream",
     "text": [
      "Epoch [96/100]: train_loss=0.5992, train_acc=96.18% | val_loss=0.6376, val_acc=94.09% | lr=0.000404 | best_val_acc=94.20%\n"
     ]
    },
    {
     "name": "stderr",
     "output_type": "stream",
     "text": [
      "                                                                                          \r"
     ]
    },
    {
     "name": "stdout",
     "output_type": "stream",
     "text": [
      "Epoch [97/100]: train_loss=0.5964, train_acc=96.29% | val_loss=0.6376, val_acc=94.17% | lr=0.000232 | best_val_acc=94.20%\n"
     ]
    },
    {
     "name": "stderr",
     "output_type": "stream",
     "text": [
      "                                                                                          \r"
     ]
    },
    {
     "name": "stdout",
     "output_type": "stream",
     "text": [
      "Epoch [98/100]: train_loss=0.5942, train_acc=96.37% | val_loss=0.6362, val_acc=94.14% | lr=0.000109 | best_val_acc=94.20%\n"
     ]
    },
    {
     "name": "stderr",
     "output_type": "stream",
     "text": [
      "                                                                                          \r"
     ]
    },
    {
     "name": "stdout",
     "output_type": "stream",
     "text": [
      "Epoch [99/100]: train_loss=0.5946, train_acc=96.43% | val_loss=0.6368, val_acc=94.11% | lr=0.000035 | best_val_acc=94.20%\n"
     ]
    },
    {
     "name": "stderr",
     "output_type": "stream",
     "text": [
      "                                                                                           \r"
     ]
    },
    {
     "name": "stdout",
     "output_type": "stream",
     "text": [
      "Epoch [100/100]: train_loss=0.5967, train_acc=96.32% | val_loss=0.6370, val_acc=94.10% | lr=0.000010 | best_val_acc=94.20%\n",
      "Training finished in 25.02 minutes. Best val acc: 94.20%\n"
     ]
    },
    {
     "data": {
      "image/png": "[encoded data removed]",
      "text/plain": [
       "<Figure size 1200x500 with 2 Axes>"
      ]
     },
     "metadata": {},
     "output_type": "display_data"
    },
    {
     "name": "stdout",
     "output_type": "stream",
     "text": [
      "Best validation accuracy: 94.20%\n"
     ]
    }
   ],
   "source": [
    "# Run Training and Evaluation\n",
    "model, history, best_acc = train_and_evaluate(CFG)\n",
    "plot_history(history, save_path=os.path.join(CFG[\"save_dir\"], \"training_curves.png\"))\n",
    "print(\"Best validation accuracy: {:.2f}%\".format(best_acc))"
   ]
  },
  {
   "cell_type": "code",
   "execution_count": null,
   "metadata": {
    "execution": {
     "iopub.execute_input": "2025-08-25T12:53:36.801218Z",
     "iopub.status.busy": "2025-08-25T12:53:36.800897Z",
     "iopub.status.idle": "2025-08-25T12:53:37.111047Z",
     "shell.execute_reply": "2025-08-25T12:53:37.110101Z",
     "shell.execute_reply.started": "2025-08-25T12:53:36.801195Z"
    },
    "trusted": true
   },
   "outputs": [
    {
     "name": "stdout",
     "output_type": "stream",
     "text": [
      "----------------------------------------------------------------\n",
      "        Layer (type)               Output Shape         Param #\n",
      "================================================================\n",
      "            Conv2d-1           [-1, 64, 32, 32]           1,792\n",
      "       BatchNorm2d-2           [-1, 64, 32, 32]             128\n",
      "              ReLU-3           [-1, 64, 32, 32]               0\n",
      "            Conv2d-4           [-1, 64, 32, 32]          36,928\n",
      "       BatchNorm2d-5           [-1, 64, 32, 32]             128\n",
      "              ReLU-6           [-1, 64, 32, 32]               0\n",
      "         MaxPool2d-7           [-1, 64, 16, 16]               0\n",
      "            Conv2d-8          [-1, 128, 16, 16]          73,856\n",
      "       BatchNorm2d-9          [-1, 128, 16, 16]             256\n",
      "             ReLU-10          [-1, 128, 16, 16]               0\n",
      "           Conv2d-11          [-1, 128, 16, 16]         147,584\n",
      "      BatchNorm2d-12          [-1, 128, 16, 16]             256\n",
      "             ReLU-13          [-1, 128, 16, 16]               0\n",
      "        MaxPool2d-14            [-1, 128, 8, 8]               0\n",
      "           Conv2d-15            [-1, 256, 8, 8]         295,168\n",
      "      BatchNorm2d-16            [-1, 256, 8, 8]             512\n",
      "             ReLU-17            [-1, 256, 8, 8]               0\n",
      "           Conv2d-18            [-1, 256, 8, 8]         590,080\n",
      "      BatchNorm2d-19            [-1, 256, 8, 8]             512\n",
      "             ReLU-20            [-1, 256, 8, 8]               0\n",
      "           Conv2d-21            [-1, 256, 8, 8]         590,080\n",
      "      BatchNorm2d-22            [-1, 256, 8, 8]             512\n",
      "             ReLU-23            [-1, 256, 8, 8]               0\n",
      "        MaxPool2d-24            [-1, 256, 4, 4]               0\n",
      "           Conv2d-25            [-1, 512, 4, 4]       1,180,160\n",
      "      BatchNorm2d-26            [-1, 512, 4, 4]           1,024\n",
      "             ReLU-27            [-1, 512, 4, 4]               0\n",
      "           Conv2d-28            [-1, 512, 4, 4]       2,359,808\n",
      "      BatchNorm2d-29            [-1, 512, 4, 4]           1,024\n",
      "             ReLU-30            [-1, 512, 4, 4]               0\n",
      "           Conv2d-31            [-1, 512, 4, 4]       2,359,808\n",
      "      BatchNorm2d-32            [-1, 512, 4, 4]           1,024\n",
      "             ReLU-33            [-1, 512, 4, 4]               0\n",
      "        MaxPool2d-34            [-1, 512, 2, 2]               0\n",
      "           Conv2d-35            [-1, 512, 2, 2]       2,359,808\n",
      "      BatchNorm2d-36            [-1, 512, 2, 2]           1,024\n",
      "             ReLU-37            [-1, 512, 2, 2]               0\n",
      "           Conv2d-38            [-1, 512, 2, 2]       2,359,808\n",
      "      BatchNorm2d-39            [-1, 512, 2, 2]           1,024\n",
      "             ReLU-40            [-1, 512, 2, 2]               0\n",
      "           Conv2d-41            [-1, 512, 2, 2]       2,359,808\n",
      "      BatchNorm2d-42            [-1, 512, 2, 2]           1,024\n",
      "             ReLU-43            [-1, 512, 2, 2]               0\n",
      "        MaxPool2d-44            [-1, 512, 1, 1]               0\n",
      "AdaptiveAvgPool2d-45            [-1, 512, 1, 1]               0\n",
      "          Flatten-46                  [-1, 512]               0\n",
      "           Linear-47                  [-1, 512]         262,656\n",
      "             ReLU-48                  [-1, 512]               0\n",
      "          Dropout-49                  [-1, 512]               0\n",
      "           Linear-50                  [-1, 512]         262,656\n",
      "             ReLU-51                  [-1, 512]               0\n",
      "          Dropout-52                  [-1, 512]               0\n",
      "           Linear-53                   [-1, 10]           5,130\n",
      "================================================================\n",
      "Total params: 15,253,578\n",
      "Trainable params: 530,442\n",
      "Non-trainable params: 14,723,136\n",
      "----------------------------------------------------------------\n",
      "Input size (MB): 0.01\n",
      "Forward/backward pass size (MB): 6.60\n",
      "Params size (MB): 58.19\n",
      "Estimated Total Size (MB): 64.80\n",
      "----------------------------------------------------------------\n"
     ]
    }
   ],
   "source": [
    "# Model Summary\n",
    "from torchsummary import summary\n",
    "\n",
    "summary(model, (3, 32, 32))"
   ]
  },
  {
   "cell_type": "code",
   "execution_count": null,
   "metadata": {
    "execution": {
     "iopub.execute_input": "2025-08-25T12:52:37.314243Z",
     "iopub.status.busy": "2025-08-25T12:52:37.313993Z",
     "iopub.status.idle": "2025-08-25T12:52:37.401563Z",
     "shell.execute_reply": "2025-08-25T12:52:37.400985Z",
     "shell.execute_reply.started": "2025-08-25T12:52:37.314226Z"
    },
    "trusted": true
   },
   "outputs": [],
   "source": [
    "# Save the model\n",
    "torch.save(model.state_dict(), \"VGG_model.pth\")"
   ]
  },
  {
   "cell_type": "code",
   "execution_count": null,
   "metadata": {
    "execution": {
     "iopub.execute_input": "2025-08-25T12:54:41.167728Z",
     "iopub.status.busy": "2025-08-25T12:54:41.167088Z",
     "iopub.status.idle": "2025-08-25T12:54:41.832985Z",
     "shell.execute_reply": "2025-08-25T12:54:41.832226Z",
     "shell.execute_reply.started": "2025-08-25T12:54:41.167702Z"
    },
    "trusted": true
   },
   "outputs": [
    {
     "data": {
      "image/png": "[encoded data removed]",
      "text/plain": [
       "<Figure size 1200x500 with 2 Axes>"
      ]
     },
     "metadata": {},
     "output_type": "display_data"
    }
   ],
   "source": [
    "# Save training curves as a single image\n",
    "def save_training_curves(history, save_path=\"training_curves.png\"):\n",
    "    epochs = len(history[\"train_loss\"])\n",
    "    plt.figure(figsize=(12, 5))\n",
    "\n",
    "    # Loss curve\n",
    "    plt.subplot(1, 2, 1)\n",
    "    plt.plot(range(1, epochs + 1), history[\"train_loss\"], label=\"Train Loss\")\n",
    "    plt.plot(range(1, epochs + 1), history[\"val_loss\"], label=\"Val Loss\")\n",
    "    plt.xlabel(\"Epoch\")\n",
    "    plt.ylabel(\"Loss\")\n",
    "    plt.title(\"Loss Curve\")\n",
    "    plt.legend()\n",
    "    plt.grid(True)\n",
    "\n",
    "    # Accuracy curve\n",
    "    plt.subplot(1, 2, 2)\n",
    "    plt.plot(range(1, epochs + 1), history[\"train_acc\"], label=\"Train Accuracy\")\n",
    "    plt.plot(range(1, epochs + 1), history[\"val_acc\"], label=\"Val Accuracy\")\n",
    "    plt.xlabel(\"Epoch\")\n",
    "    plt.ylabel(\"Accuracy (%)\")\n",
    "    plt.title(\"Accuracy Curve\")\n",
    "    plt.legend()\n",
    "    plt.grid(True)\n",
    "\n",
    "    plt.tight_layout()\n",
    "    plt.savefig(save_path, dpi=150)\n",
    "    plt.show()\n",
    "\n",
    "# Call the function\n",
    "save_training_curves(history, save_path=\"accuracy_loss_graph.png\")"
   ]
  },
  {
   "cell_type": "code",
   "execution_count": null,
   "metadata": {
    "trusted": true
   },
   "outputs": [],
   "source": []
  }
 ],
 "metadata": {
  "kaggle": {
   "accelerator": "nvidiaTeslaT4",
   "dataSources": [],
   "dockerImageVersionId": 31090,
   "isGpuEnabled": true,
   "isInternetEnabled": true,
   "language": "python",
   "sourceType": "notebook"
  },
  "kernelspec": {
   "display_name": "Python 3",
   "language": "python",
   "name": "python3"
  },
  "language_info": {
   "codemirror_mode": {
    "name": "ipython",
    "version": 3
   },
   "file_extension": ".py",
   "mimetype": "text/x-python",
   "name": "python",
   "nbconvert_exporter": "python",
   "pygments_lexer": "ipython3",
   "version": "3.11.13"
  }
 },
 "nbformat": 4,
 "nbformat_minor": 4
}
